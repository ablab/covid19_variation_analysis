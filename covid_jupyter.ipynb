{
 "cells": [
  {
   "cell_type": "markdown",
   "metadata": {},
   "source": [
    "Raw data, (>29,000 bp), 28.03.2020 22:39\n",
    "\n",
    "2367 genomes\n",
    "\n",
    "gisaid_cov2020_sequences_complete.fasta"
   ]
  },
  {
   "cell_type": "code",
   "execution_count": null,
   "metadata": {},
   "outputs": [],
   "source": []
  },
  {
   "cell_type": "code",
   "execution_count": 13,
   "metadata": {},
   "outputs": [
    {
     "name": "stdout",
     "output_type": "stream",
     "text": [
      "/home/mike/Projects_Bioinf/Viruses/covid19\r\n"
     ]
    }
   ],
   "source": [
    "!pwd"
   ]
  },
  {
   "cell_type": "code",
   "execution_count": 1,
   "metadata": {},
   "outputs": [
    {
     "name": "stdout",
     "output_type": "stream",
     "text": [
      "sed: can't read gisaid_cov2020_sequences_complete.fasta: No such file or directory\n",
      "sed: can't read gisaid_cov2020_sequences_complete.fasta: No such file or directory\n",
      "sed: can't read gisaid_cov2020_sequences_complete.fasta: No such file or directory\n"
     ]
    }
   ],
   "source": [
    "#Remove spaces and some characters from contig names:\n",
    "!sed -i 's/ //g' gisaid_cov2020_sequences_complete.fasta\n",
    "!sed -i 's/[|]/_/g' gisaid_cov2020_sequences_complete.fasta\n",
    "!sed -i 's/[/]/_/g' gisaid_cov2020_sequences_complete.fasta"
   ]
  },
  {
   "cell_type": "code",
   "execution_count": null,
   "metadata": {},
   "outputs": [],
   "source": [
    "#Split to separate genomes with Seqretsplit from EMBOSS\n",
    "!mkdir splitted\n",
    "!cd splitted\n",
    "!seqretsplit  ../gisaid_cov2020_sequences_complete.fasta "
   ]
  },
  {
   "cell_type": "code",
   "execution_count": null,
   "metadata": {},
   "outputs": [],
   "source": [
    "#Create vcfs \n",
    "!mkdir vcfs\n",
    "!for i in $(ls splitted/*.fasta); do minimap2 -c --cs nCoV-2019.reference.fasta  //\n",
    "!$i | sort -k6,6 -k8,8n | /Nancy/mrayko/Libs/minimap2/misc/paftools.js call -L20000 //\n",
    "!-f nCoV-2019.reference.fasta  - > vcfs/$(basename $i).vcf ;done"
   ]
  },
  {
   "cell_type": "code",
   "execution_count": 2,
   "metadata": {},
   "outputs": [],
   "source": [
    "#Merge to single vcf\n",
    "!ls -d vcfs/* > vcfs.list \n",
    "!sed -i '/_pangolin_/d' vcfs.list \n",
    "!sed -i '/_bat_/d' vcfs.list \n",
    "\n",
    "!java -jar picard.jar MergeVcfs I=vcfs.list O=merged.vcf"
   ]
  },
  {
   "cell_type": "code",
   "execution_count": null,
   "metadata": {},
   "outputs": [],
   "source": [
    "#Select only SNV that remained singletons since March 1.\n",
    "!python3 /home/dantipov/scripts/covid/covid19_variation_analysis/find_singleton_mutations.py  merged.vcf 2020-03-01 > singletons_before_2020-03-01.vcf"
   ]
  },
  {
   "cell_type": "code",
   "execution_count": 15,
   "metadata": {},
   "outputs": [],
   "source": [
    "# Keep only non-singleton SNVs.\n",
    "infile = \"merged.vcf\"\n",
    "table = {}\n",
    "with open (infile, \"r\") as input_file:\n",
    "    lines = [i.strip() for i in input_file.readlines()]\n",
    "\n",
    "for line in lines:\n",
    "        arr = line.split()\n",
    "        if arr[0] == \"NC_045512.2\":\n",
    "            id = arr[1] + \"_\" + arr[3] + \"_\" + arr[4]\n",
    "            if  not (id in table.keys()):\n",
    "                table[id] = []\n",
    "            table[id].append(line.strip())\n",
    "\n",
    "# Write non-singleton snps\n",
    "with open(\"merged_non_singletons.vcf\", \"w\") as output:\n",
    "  for line in lines:\n",
    "    arr = line.split()\n",
    "    if arr[0] == \"NC_045512.2\" and len(table[arr[1] + \"_\" + arr[3] + \"_\" + arr[4]])==1:\n",
    "        continue\n",
    "    else:\n",
    "        #output.append(line)\n",
    "        output.write(\"%s\\n\" % line)\n",
    "\n",
    "# Write uniq non_singleton snps       \n",
    "seen = set()\n",
    "with open(\"merged_non_singletons_uniq.vcf\", \"w\") as output:\n",
    "  for line in lines:\n",
    "    arr = line.split()\n",
    "    if arr[0] != \"NC_045512.2\":\n",
    "        output.write(\"%s\\n\" % line)\n",
    "    else:\n",
    "        id = arr[1] + \"_\" + arr[3] + \"_\" + arr[4]\n",
    "        if len(table[id])==1:\n",
    "            continue\n",
    "        else:\n",
    "            if id not in seen:\n",
    "                seen.add(id)\n",
    "                arr[7]=arr[7]+\";\"+str(len(table[id]))\n",
    "                #line = line + \"\\t\" +str(len(table[id]))\n",
    "                output.write(\"%s\\n\" % '\\t'.join(arr))\n",
    "\n"
   ]
  },
  {
   "cell_type": "code",
   "execution_count": 1,
   "metadata": {},
   "outputs": [
    {
     "name": "stdout",
     "output_type": "stream",
     "text": [
      "/home/mike/Projects_Bioinf/Viruses/covid19/repeat_1_april\r\n"
     ]
    }
   ],
   "source": [
    "# Remove dot from header for SnpEff\n",
    "!sed -i 's/NC_045512.2/NC_045512/g'  merged_non_singletons_uniq.vcf\n",
    "# Run SnpEff\n",
    "! java -jar snpEff.jar covid merged_non_singletons_uniq.vcf  > merged_non_singletons_uniq_annotated.vcf "
   ]
  },
  {
   "cell_type": "markdown",
   "metadata": {},
   "source": [
    "__conservative_inframe_deletion\t \t4\t0.115%__  \n",
    "__disruptive_inframe_deletion\t \t6\t0.172%__  \n",
    "__disruptive_inframe_insertion\t \t1\t0.029%__  \n",
    "downstream_gene_variant\t \t1,440\t41.308%  \n",
    "__frameshift_variant\t \t2\t0.057%__  \n",
    "gene_fusion\t \t1\t0.029%  \n",
    "intergenic_region\t \t82\t2.352%  \n",
    "missense_variant\t \t395\t11.331%  \n",
    "__start_lost\t \t1\t0.029%__  \n",
    "__stop_gained\t \t5\t0.143%__  \n",
    "synonymous_variant\t \t249\t7.143%  \n",
    "upstream_gene_variant\t \t1,300\t37.292%  \n"
   ]
  },
  {
   "cell_type": "code",
   "execution_count": null,
   "metadata": {},
   "outputs": [],
   "source": []
  },
  {
   "cell_type": "code",
   "execution_count": null,
   "metadata": {},
   "outputs": [],
   "source": []
  },
  {
   "cell_type": "code",
   "execution_count": null,
   "metadata": {},
   "outputs": [],
   "source": []
  }
 ],
 "metadata": {
  "kernelspec": {
   "display_name": "Python 3",
   "language": "python",
   "name": "python3"
  },
  "language_info": {
   "codemirror_mode": {
    "name": "ipython",
    "version": 3
   },
   "file_extension": ".py",
   "mimetype": "text/x-python",
   "name": "python",
   "nbconvert_exporter": "python",
   "pygments_lexer": "ipython3",
   "version": "3.7.6"
  }
 },
 "nbformat": 4,
 "nbformat_minor": 4
}
